{
 "cells": [
  {
   "cell_type": "code",
   "execution_count": 1,
   "metadata": {},
   "outputs": [],
   "source": [
    "import pandas as pd"
   ]
  },
  {
   "cell_type": "code",
   "execution_count": 2,
   "metadata": {},
   "outputs": [
    {
     "data": {
      "text/html": [
       "<div>\n",
       "<style scoped>\n",
       "    .dataframe tbody tr th:only-of-type {\n",
       "        vertical-align: middle;\n",
       "    }\n",
       "\n",
       "    .dataframe tbody tr th {\n",
       "        vertical-align: top;\n",
       "    }\n",
       "\n",
       "    .dataframe thead th {\n",
       "        text-align: right;\n",
       "    }\n",
       "</style>\n",
       "<table border=\"1\" class=\"dataframe\">\n",
       "  <thead>\n",
       "    <tr style=\"text-align: right;\">\n",
       "      <th></th>\n",
       "      <th>name</th>\n",
       "      <th>flea</th>\n",
       "      <th>caliber</th>\n",
       "      <th>damage</th>\n",
       "      <th>penetration</th>\n",
       "      <th>armor_damage</th>\n",
       "      <th>accuracy</th>\n",
       "      <th>recoil</th>\n",
       "      <th>frag_chance</th>\n",
       "      <th>bleed_lt</th>\n",
       "      <th>bleed_hvy</th>\n",
       "      <th>b_effectiveness_c1</th>\n",
       "      <th>b_effectiveness_c2</th>\n",
       "      <th>b_effectiveness_c3</th>\n",
       "      <th>b_effectiveness_c4</th>\n",
       "      <th>b_effectiveness_c5</th>\n",
       "      <th>b_effectiveness_c6</th>\n",
       "    </tr>\n",
       "  </thead>\n",
       "  <tbody>\n",
       "    <tr>\n",
       "      <th>0</th>\n",
       "      <td>12/70 5.25mm buckshot (8)</td>\n",
       "      <td>yes</td>\n",
       "      <td>12x70mm</td>\n",
       "      <td>37</td>\n",
       "      <td>1</td>\n",
       "      <td>15</td>\n",
       "      <td>0</td>\n",
       "      <td>0</td>\n",
       "      <td>0</td>\n",
       "      <td>0</td>\n",
       "      <td>0</td>\n",
       "      <td>3</td>\n",
       "      <td>3</td>\n",
       "      <td>3</td>\n",
       "      <td>3</td>\n",
       "      <td>3</td>\n",
       "      <td>3</td>\n",
       "    </tr>\n",
       "    <tr>\n",
       "      <th>1</th>\n",
       "      <td>12/70 8.5mm Magnum buckshot (8)</td>\n",
       "      <td>yes</td>\n",
       "      <td>12x70mm</td>\n",
       "      <td>50</td>\n",
       "      <td>2</td>\n",
       "      <td>26</td>\n",
       "      <td>-15</td>\n",
       "      <td>115</td>\n",
       "      <td>0</td>\n",
       "      <td>20</td>\n",
       "      <td>10</td>\n",
       "      <td>3</td>\n",
       "      <td>3</td>\n",
       "      <td>3</td>\n",
       "      <td>3</td>\n",
       "      <td>3</td>\n",
       "      <td>3</td>\n",
       "    </tr>\n",
       "    <tr>\n",
       "      <th>2</th>\n",
       "      <td>12/70 6.5mm Express buckshot (9)</td>\n",
       "      <td>yes</td>\n",
       "      <td>12x70mm</td>\n",
       "      <td>35</td>\n",
       "      <td>3</td>\n",
       "      <td>26</td>\n",
       "      <td>15</td>\n",
       "      <td>0</td>\n",
       "      <td>0</td>\n",
       "      <td>0</td>\n",
       "      <td>0</td>\n",
       "      <td>3</td>\n",
       "      <td>3</td>\n",
       "      <td>3</td>\n",
       "      <td>3</td>\n",
       "      <td>3</td>\n",
       "      <td>3</td>\n",
       "    </tr>\n",
       "    <tr>\n",
       "      <th>3</th>\n",
       "      <td>12/70 7mm buckshot (8)</td>\n",
       "      <td>yes</td>\n",
       "      <td>12x70mm</td>\n",
       "      <td>39</td>\n",
       "      <td>3</td>\n",
       "      <td>26</td>\n",
       "      <td>0</td>\n",
       "      <td>0</td>\n",
       "      <td>0</td>\n",
       "      <td>0</td>\n",
       "      <td>0</td>\n",
       "      <td>3</td>\n",
       "      <td>3</td>\n",
       "      <td>3</td>\n",
       "      <td>3</td>\n",
       "      <td>3</td>\n",
       "      <td>3</td>\n",
       "    </tr>\n",
       "    <tr>\n",
       "      <th>4</th>\n",
       "      <td>12/70 Piranha (10)</td>\n",
       "      <td>yes</td>\n",
       "      <td>12x70mm</td>\n",
       "      <td>25</td>\n",
       "      <td>24</td>\n",
       "      <td>22</td>\n",
       "      <td>-5</td>\n",
       "      <td>0</td>\n",
       "      <td>0</td>\n",
       "      <td>15</td>\n",
       "      <td>15</td>\n",
       "      <td>6</td>\n",
       "      <td>6</td>\n",
       "      <td>5</td>\n",
       "      <td>4</td>\n",
       "      <td>4</td>\n",
       "      <td>4</td>\n",
       "    </tr>\n",
       "  </tbody>\n",
       "</table>\n",
       "</div>"
      ],
      "text/plain": [
       "                               name flea  caliber  damage  penetration  \\\n",
       "0         12/70 5.25mm buckshot (8)  yes  12x70mm      37            1   \n",
       "1   12/70 8.5mm Magnum buckshot (8)  yes  12x70mm      50            2   \n",
       "2  12/70 6.5mm Express buckshot (9)  yes  12x70mm      35            3   \n",
       "3            12/70 7mm buckshot (8)  yes  12x70mm      39            3   \n",
       "4                12/70 Piranha (10)  yes  12x70mm      25           24   \n",
       "\n",
       "   armor_damage  accuracy  recoil  frag_chance  bleed_lt  bleed_hvy  \\\n",
       "0            15         0       0            0         0          0   \n",
       "1            26       -15     115            0        20         10   \n",
       "2            26        15       0            0         0          0   \n",
       "3            26         0       0            0         0          0   \n",
       "4            22        -5       0            0        15         15   \n",
       "\n",
       "   b_effectiveness_c1  b_effectiveness_c2  b_effectiveness_c3  \\\n",
       "0                   3                   3                   3   \n",
       "1                   3                   3                   3   \n",
       "2                   3                   3                   3   \n",
       "3                   3                   3                   3   \n",
       "4                   6                   6                   5   \n",
       "\n",
       "   b_effectiveness_c4  b_effectiveness_c5  b_effectiveness_c6  \n",
       "0                   3                   3                   3  \n",
       "1                   3                   3                   3  \n",
       "2                   3                   3                   3  \n",
       "3                   3                   3                   3  \n",
       "4                   4                   4                   4  "
      ]
     },
     "execution_count": 2,
     "metadata": {},
     "output_type": "execute_result"
    }
   ],
   "source": [
    "df= pd.read_csv('Data/tarkov_ammo.csv')\n",
    "df.head()"
   ]
  },
  {
   "cell_type": "code",
   "execution_count": 6,
   "metadata": {},
   "outputs": [
    {
     "data": {
      "text/plain": [
       "(164, 17)"
      ]
     },
     "execution_count": 6,
     "metadata": {},
     "output_type": "execute_result"
    }
   ],
   "source": [
    "df.shape"
   ]
  },
  {
   "cell_type": "markdown",
   "metadata": {},
   "source": [
    "- eda\n"
   ]
  },
  {
   "cell_type": "code",
   "execution_count": 27,
   "metadata": {},
   "outputs": [
    {
     "data": {
      "text/plain": [
       "0    False\n",
       "1    False\n",
       "2    False\n",
       "Name: flea, dtype: bool"
      ]
     },
     "execution_count": 27,
     "metadata": {},
     "output_type": "execute_result"
    }
   ],
   "source": [
    "yes_flea=df['flea'].isin(['yes'])\n",
    "\n",
    "flea_yes= df.loc[yes_flea]\n",
    "yes_flea.head(3)"
   ]
  }
 ],
 "metadata": {
  "kernelspec": {
   "display_name": "dojo-env",
   "language": "python",
   "name": "python3"
  },
  "language_info": {
   "codemirror_mode": {
    "name": "ipython",
    "version": 3
   },
   "file_extension": ".py",
   "mimetype": "text/x-python",
   "name": "python",
   "nbconvert_exporter": "python",
   "pygments_lexer": "ipython3",
   "version": "3.9.15"
  }
 },
 "nbformat": 4,
 "nbformat_minor": 2
}
